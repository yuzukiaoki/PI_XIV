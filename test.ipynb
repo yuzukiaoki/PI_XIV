{
 "cells": [
  {
   "cell_type": "code",
   "execution_count": 57,
   "metadata": {},
   "outputs": [
    {
     "name": "stdout",
     "output_type": "stream",
     "text": [
      "0\n",
      "1\n",
      "2\n"
     ]
    }
   ],
   "source": [
    "for i in range(3):\n",
    "    print(i)"
   ]
  },
  {
   "cell_type": "code",
   "execution_count": 50,
   "metadata": {},
   "outputs": [
    {
     "name": "stdout",
     "output_type": "stream",
     "text": [
      "11\n"
     ]
    }
   ],
   "source": [
    "count = 10\n",
    "\n",
    "def myfunc():\n",
    "    global count\n",
    "    count = count + 1\n",
    "    print(count)\n",
    "  \n",
    "myfunc()"
   ]
  },
  {
   "cell_type": "code",
   "execution_count": 34,
   "metadata": {},
   "outputs": [
    {
     "name": "stdout",
     "output_type": "stream",
     "text": [
      "5\n"
     ]
    }
   ],
   "source": [
    "alist = [True,True,True,True,True]\n",
    "print(sum(alist))"
   ]
  },
  {
   "cell_type": "code",
   "execution_count": 33,
   "metadata": {},
   "outputs": [
    {
     "name": "stdout",
     "output_type": "stream",
     "text": [
      "77\n",
      "77\n",
      "False\n",
      "True\n",
      "None\n",
      "(1, 2, 3)\n",
      "[(1, 2, 3), None, True, False]\n"
     ]
    }
   ],
   "source": [
    "alist = [(1,2,3),(None),(True),(False),(77),(77)]\n",
    "for i in range(len(alist)-1,-1,-1):\n",
    "    print(alist[i])\n",
    "    if alist[i] == 77:\n",
    "        alist.pop(i)\n",
    "print(alist)"
   ]
  },
  {
   "cell_type": "code",
   "execution_count": 29,
   "metadata": {},
   "outputs": [
    {
     "name": "stdout",
     "output_type": "stream",
     "text": [
      "5\n",
      "4\n",
      "3\n",
      "2\n",
      "1\n",
      "0\n"
     ]
    }
   ],
   "source": [
    "for i in range(5,-1,-1):\n",
    "    print(i)"
   ]
  },
  {
   "cell_type": "code",
   "execution_count": 25,
   "metadata": {},
   "outputs": [
    {
     "name": "stdout",
     "output_type": "stream",
     "text": [
      "[(1, 2, 3), (1, 2, 3), None, (1, 2, 3), (1, 2, 3), None, (1, 2, 3), (1, 2, 3), None, True, False, 77, 77]\n",
      "<class 'tuple'>\n",
      "<class 'tuple'>\n",
      "<class 'NoneType'>\n",
      "<class 'tuple'>\n",
      "<class 'tuple'>\n",
      "<class 'NoneType'>\n",
      "<class 'tuple'>\n",
      "<class 'tuple'>\n",
      "<class 'NoneType'>\n",
      "<class 'bool'>\n",
      "<class 'bool'>\n",
      "<class 'int'>\n",
      "<class 'int'>\n",
      "[(1, 2, 3), (1, 2, 3), (1, 2, 3), (1, 2, 3), (1, 2, 3), (1, 2, 3)]\n",
      "[True, False, 77, 77]\n"
     ]
    }
   ],
   "source": [
    "alist = [(1,2,3),(1,2,3),(None),(1,2,3),(1,2,3),(None),(1,2,3),(1,2,3),(None),(True),(False),(77),(77)]\n",
    "blist =[]\n",
    "clist= []\n",
    "print(alist)\n",
    "for i in range(len(alist)):\n",
    "    print(type(alist[i]))\n",
    "    if alist[i] ==None:\n",
    "        continue\n",
    "    elif type(alist[i]) != tuple:\n",
    "        clist.append(alist[i]) \n",
    "    else:\n",
    "        blist.append(alist[i])\n",
    "\n",
    "print(blist)\n",
    "print(clist)\n"
   ]
  },
  {
   "cell_type": "code",
   "execution_count": 10,
   "metadata": {},
   "outputs": [
    {
     "ename": "AttributeError",
     "evalue": "'NoneType' object has no attribute 'what'",
     "output_type": "error",
     "traceback": [
      "\u001b[1;31m---------------------------------------------------------------------------\u001b[0m",
      "\u001b[1;31mAttributeError\u001b[0m                            Traceback (most recent call last)",
      "\u001b[1;32md:\\YuzukiAoki\\VScode\\pixiv\\test.ipynb Cell 1\u001b[0m in \u001b[0;36m<cell line: 10>\u001b[1;34m()\u001b[0m\n\u001b[0;32m      <a href='vscode-notebook-cell:/d%3A/YuzukiAoki/VScode/pixiv/test.ipynb#Y111sZmlsZQ%3D%3D?line=5'>6</a>\u001b[0m         \u001b[39mself\u001b[39m\u001b[39m.\u001b[39mwhat \u001b[39m=\u001b[39m \u001b[39m\"\u001b[39m\u001b[39m456\u001b[39m\u001b[39m\"\u001b[39m\n\u001b[0;32m      <a href='vscode-notebook-cell:/d%3A/YuzukiAoki/VScode/pixiv/test.ipynb#Y111sZmlsZQ%3D%3D?line=7'>8</a>\u001b[0m gogo \u001b[39m=\u001b[39m bang()\n\u001b[1;32m---> <a href='vscode-notebook-cell:/d%3A/YuzukiAoki/VScode/pixiv/test.ipynb#Y111sZmlsZQ%3D%3D?line=9'>10</a>\u001b[0m \u001b[39mprint\u001b[39m(gogo\u001b[39m.\u001b[39;49mwhatthe()\u001b[39m.\u001b[39;49mwhat)\n",
      "\u001b[1;31mAttributeError\u001b[0m: 'NoneType' object has no attribute 'what'"
     ]
    }
   ],
   "source": [
    "class bang():\n",
    "    def __init__(self) -> None:\n",
    "        self.hehe = \"123\"\n",
    "       # self.what = 0\n",
    "    def whatthe(self):\n",
    "        self.what = \"456\"\n",
    "\n",
    "gogo = bang()\n",
    "\n",
    "print(gogo.whatthe().what)"
   ]
  },
  {
   "cell_type": "code",
   "execution_count": 6,
   "metadata": {},
   "outputs": [
    {
     "name": "stdout",
     "output_type": "stream",
     "text": [
      "False\n"
     ]
    }
   ],
   "source": [
    "astr = \"100733714_ugoira0.jpg\"\n",
    "hehe = False\n",
    "\n",
    "print(hehe and \"ugoira\" in astr)"
   ]
  },
  {
   "cell_type": "code",
   "execution_count": null,
   "metadata": {},
   "outputs": [],
   "source": [
    "import os\n",
    "\n",
    "files = os.listdir('pixiv-ranking')\n",
    "print(files)\n",
    "files = os.listdir('pixiv-ranking'+\"\\\\\"+f\"{files[0]}\")\n",
    "print(files)"
   ]
  },
  {
   "cell_type": "code",
   "execution_count": null,
   "metadata": {},
   "outputs": [],
   "source": [
    "for i in range(10):\n",
    "    for j in range(10):\n",
    "        if j == 5:\n",
    "            print(\"GG\")\n",
    "            continue\n",
    "        print(j)"
   ]
  },
  {
   "cell_type": "code",
   "execution_count": null,
   "metadata": {},
   "outputs": [],
   "source": [
    "atuple= [(1,2),(3,4),(5,6)]\n",
    "for a,b in enumerate(atuple):\n",
    "    #print(a,b)\n",
    "    print(a,b[0],b[1])\n",
    "    # for i,j in b:\n",
    "    #     print(i,j)"
   ]
  },
  {
   "cell_type": "code",
   "execution_count": null,
   "metadata": {},
   "outputs": [],
   "source": [
    "def hehe(a,b,*args,**kwargs):\n",
    "    print(a,b,args,kwargs)\n",
    "    return a+b\n",
    "hehe(1,5,c=456,d=789)"
   ]
  },
  {
   "cell_type": "code",
   "execution_count": null,
   "metadata": {},
   "outputs": [],
   "source": [
    "atuple = [(1, 2), (3, 4), (5, 6)]\n",
    "for i,v in atuple:\n",
    "    print(i,v)"
   ]
  },
  {
   "cell_type": "code",
   "execution_count": 42,
   "metadata": {},
   "outputs": [
    {
     "name": "stdout",
     "output_type": "stream",
     "text": [
      "80\n",
      "<class 'int'>\n"
     ]
    }
   ],
   "source": [
    "import configparser\n",
    "config = configparser.ConfigParser(interpolation=None)\n",
    "config.read('config.ini')\n",
    "port = config['config']['port']\n",
    "port = int(port)\n",
    "print(port)\n",
    "print(type(port))"
   ]
  },
  {
   "cell_type": "code",
   "execution_count": null,
   "metadata": {},
   "outputs": [],
   "source": [
    "def trying(first=False,sec=False):\n",
    "    if first:\n",
    "        print('first')\n",
    "    elif sec:\n",
    "        print('sec')\n",
    "    else:\n",
    "        print('else')\n",
    "trying(sec=2,first=1)\n"
   ]
  },
  {
   "cell_type": "code",
   "execution_count": 40,
   "metadata": {},
   "outputs": [
    {
     "ename": "ValueError",
     "evalue": "too many values to unpack (expected 2)",
     "output_type": "error",
     "traceback": [
      "\u001b[1;31m---------------------------------------------------------------------------\u001b[0m",
      "\u001b[1;31mValueError\u001b[0m                                Traceback (most recent call last)",
      "\u001b[1;32md:\\YuzukiAoki\\VScode\\pixiv\\test.ipynb Cell 13\u001b[0m in \u001b[0;36m<cell line: 2>\u001b[1;34m()\u001b[0m\n\u001b[0;32m      <a href='vscode-notebook-cell:/d%3A/YuzukiAoki/VScode/pixiv/test.ipynb#W6sZmlsZQ%3D%3D?line=0'>1</a>\u001b[0m alist\u001b[39m=\u001b[39m[(\u001b[39m1\u001b[39m,\u001b[39m2\u001b[39m,\u001b[39m3\u001b[39m),(\u001b[39m1\u001b[39m,\u001b[39m2\u001b[39m,\u001b[39m3\u001b[39m),(\u001b[39m1\u001b[39m,\u001b[39m2\u001b[39m,\u001b[39m3\u001b[39m),(\u001b[39m1\u001b[39m,\u001b[39m2\u001b[39m,\u001b[39m3\u001b[39m),(\u001b[39m1\u001b[39m,\u001b[39m2\u001b[39m,\u001b[39m3\u001b[39m)]\n\u001b[1;32m----> <a href='vscode-notebook-cell:/d%3A/YuzukiAoki/VScode/pixiv/test.ipynb#W6sZmlsZQ%3D%3D?line=1'>2</a>\u001b[0m \u001b[39mfor\u001b[39;00m i,j \u001b[39min\u001b[39;00m alist:\n\u001b[0;32m      <a href='vscode-notebook-cell:/d%3A/YuzukiAoki/VScode/pixiv/test.ipynb#W6sZmlsZQ%3D%3D?line=2'>3</a>\u001b[0m     \u001b[39mprint\u001b[39m(i,j)\n",
      "\u001b[1;31mValueError\u001b[0m: too many values to unpack (expected 2)"
     ]
    }
   ],
   "source": [
    "alist=[(1,2,3),(1,2,3),(1,2,3),(1,2,3),(1,2,3)]\n",
    "for i,j in alist:\n",
    "    print(i,j)"
   ]
  },
  {
   "cell_type": "code",
   "execution_count": null,
   "metadata": {},
   "outputs": [],
   "source": [
    "url =\"https://www.pixiv.net/ajax/illust/123465?lang=zh-tw\"\n",
    "print(url.split('/'))"
   ]
  },
  {
   "cell_type": "code",
   "execution_count": null,
   "metadata": {},
   "outputs": [],
   "source": [
    "adict ={\n",
    "    'a':1,\n",
    "    'b':2,\n",
    "    'c':c\n",
    "}"
   ]
  },
  {
   "cell_type": "code",
   "execution_count": null,
   "metadata": {},
   "outputs": [],
   "source": [
    "def doit():\n",
    "    for i in range(10):\n",
    "        if i == 5:\n",
    "            return 'done'\n",
    "        print(i)\n",
    "doit()"
   ]
  },
  {
   "cell_type": "code",
   "execution_count": null,
   "metadata": {},
   "outputs": [],
   "source": [
    "try:\n",
    "    a = 1\n",
    "    b = 1\n",
    "    a + c\n",
    "except Exception as e:\n",
    "    print(e)\n",
    "    print(\"Error\")\n",
    "\n",
    "print(\"HEHE\")"
   ]
  },
  {
   "cell_type": "code",
   "execution_count": null,
   "metadata": {},
   "outputs": [],
   "source": [
    "stra = r\"D:\\YuzukiAoki\\VScode\\mantis1473\\auto_mail\\needZIP\\picture\"\n",
    "for i in stra:\n",
    "    print(i)"
   ]
  },
  {
   "cell_type": "code",
   "execution_count": null,
   "metadata": {},
   "outputs": [],
   "source": [
    "import math\n",
    "a=1033\n",
    "a=a/150\n",
    "math.floor(a)"
   ]
  },
  {
   "cell_type": "code",
   "execution_count": null,
   "metadata": {},
   "outputs": [],
   "source": [
    "tuplelist= [(1,2,\"a\"),(3,4,\"b\"),(5,6,\"c\")]\n",
    "tuplelist=[(1,2,[\"a\"]),(3,4,[\"b\"]),(5,6,[\"c\"])]\n",
    "tuplelist=[(1,2,[]),(3,4,[]),(5,6,[])]\n",
    "newlist=[getthird[0] for _,_,getthird in tuplelist if getthird]\n",
    "newlist"
   ]
  },
  {
   "cell_type": "code",
   "execution_count": null,
   "metadata": {},
   "outputs": [],
   "source": [
    "a= 120\n",
    "isinstance(int(a/65),int)\n"
   ]
  },
  {
   "cell_type": "code",
   "execution_count": null,
   "metadata": {},
   "outputs": [],
   "source": [
    "from tqdm import tqdm\n",
    "\n",
    "len(range(1,60))"
   ]
  },
  {
   "cell_type": "code",
   "execution_count": null,
   "metadata": {},
   "outputs": [],
   "source": [
    "from alive_progress import alive_bar\n",
    "# 假設需要執行100個任務\n",
    "with alive_bar(len(range(100))) as bar:\n",
    "    for item in range(100): # 遍曆任務\n",
    "        bar() # 顯示進度\n",
    "        \"\"\" 代碼 \"\"\"\n",
    "        # 假設這代碼部分需要0.05s\n",
    "        time.sleep(0.05)"
   ]
  },
  {
   "cell_type": "code",
   "execution_count": null,
   "metadata": {},
   "outputs": [],
   "source": [
    "result=[(1,5),(1,5),(1,5),(1,5),(1,5)]\n",
    "for i in result:\n",
    "    hehe = hehe + i[0]\n",
    "print(hehe)"
   ]
  },
  {
   "cell_type": "code",
   "execution_count": null,
   "metadata": {},
   "outputs": [],
   "source": [
    "from pathlib import Path\n",
    "print(Path.home())"
   ]
  },
  {
   "cell_type": "code",
   "execution_count": null,
   "metadata": {},
   "outputs": [],
   "source": [
    "alist = []\n",
    "if alist == []:\n",
    "    print(\"empty\")"
   ]
  },
  {
   "cell_type": "code",
   "execution_count": null,
   "metadata": {},
   "outputs": [],
   "source": [
    "alist=[bang for bang in range(1,10) if bang != 5]\n",
    "alist"
   ]
  },
  {
   "cell_type": "code",
   "execution_count": null,
   "metadata": {},
   "outputs": [],
   "source": [
    "alist = []\n",
    "alist.extend([(1, 2), (3, 4), (5, 6)])\n",
    "print(*alist)"
   ]
  },
  {
   "cell_type": "code",
   "execution_count": null,
   "metadata": {},
   "outputs": [],
   "source": [
    "alist = [(1, 2), (3, 4), (5, 6)]\n",
    "for i,j in alist:\n",
    "    print(i,j)"
   ]
  },
  {
   "cell_type": "code",
   "execution_count": null,
   "metadata": {},
   "outputs": [],
   "source": [
    "for i in range(0,5):\n",
    "    print(i)"
   ]
  },
  {
   "cell_type": "code",
   "execution_count": null,
   "metadata": {},
   "outputs": [],
   "source": [
    "str1 = \"93561897\"\n",
    "str2 = \"4646546465465rwerew\"\n",
    "str1.isdigit()\n",
    "# alist = [str5 for str5 in str1 ]\n",
    "# len(alist)\n"
   ]
  },
  {
   "cell_type": "code",
   "execution_count": null,
   "metadata": {},
   "outputs": [],
   "source": [
    "str_int = \"123\"\n",
    "str_int2 = \"456\"\n",
    "print(int(str_int) + int(str_int2))"
   ]
  },
  {
   "cell_type": "code",
   "execution_count": null,
   "metadata": {},
   "outputs": [],
   "source": [
    "import time,datetime\n",
    "#今天日期\n",
    "today = datetime.datetime.now()\n",
    "#轉字串\n",
    "today = today.strftime('%Y%m%d')\n",
    "today\n"
   ]
  },
  {
   "cell_type": "code",
   "execution_count": null,
   "metadata": {},
   "outputs": [],
   "source": [
    "str1 = (input(\"gogo\")).upper()\n",
    "print(str1)"
   ]
  },
  {
   "cell_type": "code",
   "execution_count": null,
   "metadata": {},
   "outputs": [],
   "source": [
    "alist = [(1, 2), (3, 4), (5, 6)]\n",
    "b = (7, 8)\n",
    "alist.append(b[0])\n",
    "print(alist)"
   ]
  },
  {
   "cell_type": "code",
   "execution_count": null,
   "metadata": {},
   "outputs": [],
   "source": [
    "from time import time\n",
    "start_time = time()\n",
    "print(start_time)"
   ]
  },
  {
   "cell_type": "code",
   "execution_count": null,
   "metadata": {},
   "outputs": [],
   "source": [
    "alist =[]\n",
    "hehe = None\n",
    "alist.append(hehe)\n",
    "print(alist)"
   ]
  },
  {
   "cell_type": "code",
   "execution_count": null,
   "metadata": {},
   "outputs": [],
   "source": [
    "def for_return():\n",
    "    for i in range(10):\n",
    "        yield i\n",
    "        print(i)\n",
    "    #return 'done'\n",
    "for_return()"
   ]
  },
  {
   "cell_type": "code",
   "execution_count": null,
   "metadata": {},
   "outputs": [],
   "source": [
    "astring = 'Hello World!'\n",
    "bstring = \"Hello World!bang\"\n",
    "if 'bang' in astring or 'badsadsang' in bstring:\n",
    "    print('True')"
   ]
  },
  {
   "cell_type": "code",
   "execution_count": null,
   "metadata": {},
   "outputs": [],
   "source": [
    "alist = [[], ['99672750'], ['99672683'], [], []]\n",
    "blist = []\n",
    "for i  in alist:\n",
    "    blist.extend(i)\n",
    "print(blist)"
   ]
  },
  {
   "cell_type": "code",
   "execution_count": null,
   "metadata": {},
   "outputs": [],
   "source": [
    "listTuple = [(1, 2,True), (3, 4,True), (5, 6,False)]\n",
    "alist = []\n",
    "for i in listTuple:\n",
    "    alist.append(i[2])\n",
    "print(alist)"
   ]
  },
  {
   "cell_type": "code",
   "execution_count": null,
   "metadata": {},
   "outputs": [],
   "source": [
    "def test():\n",
    "    a=1\n",
    "    b=2\n",
    "    c=4\n",
    "    if c ==3:\n",
    "        return a,c\n",
    "    return a,None\n",
    "test()[0]"
   ]
  },
  {
   "cell_type": "code",
   "execution_count": null,
   "metadata": {},
   "outputs": [],
   "source": [
    "listTuple= [(1,2),(3,4),(5,6)]\n",
    "listTuple2 = [(1,2),(3,4),(5,6),(7,8)]\n",
    "listTuple.extend(listTuple2)\n",
    "print(listTuple)"
   ]
  },
  {
   "cell_type": "code",
   "execution_count": null,
   "metadata": {},
   "outputs": [],
   "source": [
    "#更簡潔的方法\n",
    "from itertools import islice, takewhile, repeat\n",
    "import time\n",
    "\n",
    "def split_every(n, iterable):\n",
    "    \"\"\"\n",
    "    Slice an iterable into chunks of n elements\n",
    "    :type n: int\n",
    "    :type iterable: Iterable\n",
    "    :rtype: Iterator\n",
    "    \"\"\"\n",
    "    iterator = iter(iterable)\n",
    "    return takewhile(bool, (list(islice(iterator, n)) for _ in repeat(None)))\n",
    "alist = [1,2]\n",
    "blist = [1,2,3]\n",
    "clist = [1,2,3,4]\n",
    "dlist = [1,2,3,4,5]\n",
    "elist = [1,2,3,4,5,6]\n",
    "flist = [1,2,3,4,5,6,7]\n",
    "glist = [1,2,3,4,5,6,7,8]\n",
    "task = [alist,blist,clist,dlist,elist,flist,glist]\n",
    "print(\"甚麼鬼東西\",split_every(2,task))\n",
    "for tasks in split_every(2,task):\n",
    "    print(\"HEHE\")\n",
    "    print(\"這是任務 \",tasks)\n",
    "    time.sleep(1)"
   ]
  },
  {
   "cell_type": "code",
   "execution_count": null,
   "metadata": {},
   "outputs": [],
   "source": [
    "i = iter(range(10))\n",
    "while (x := next(i, None)) is not None and x < 5:\n",
    "    print(x)"
   ]
  },
  {
   "cell_type": "code",
   "execution_count": null,
   "metadata": {},
   "outputs": [],
   "source": [
    "# Python3 code to demonstrate \n",
    "# working of iter() \n",
    "  \n",
    "# initializing list  \n",
    "lis1 = [1, 2, 3, 4, 5] \n",
    "  \n",
    "# printing type  \n",
    "print (\"The list is of type:\" + str(type(lis1))) \n",
    "  \n",
    "# converting list using iter() \n",
    "lis1 = iter(lis1) \n",
    "  \n",
    "# printing type  \n",
    "print (\"The iterator is of type:\" + str(type(lis1))) \n",
    "  \n",
    "# using next() to print iterator values \n",
    "print (next(lis1)) \n",
    "print (lis1) \n",
    "print (next(lis1)) \n",
    "print (next(lis1)) \n",
    "\n",
    "print (lis1)"
   ]
  },
  {
   "cell_type": "code",
   "execution_count": null,
   "metadata": {},
   "outputs": [],
   "source": [
    "from itertools import islice\n",
    "\n",
    "def split_every(iterable, n):  # pylint: disable=invalid-name\n",
    "    i = iter(iterable)\n",
    "    acc = 0\n",
    "    piece = list(islice(i, n))\n",
    "    acc += len(piece)\n",
    "    while piece:\n",
    "        print(f\"acc:{acc} piece:{piece}\")\n",
    "        yield acc, piece\n",
    "        piece = list(islice(i, n)) # 這裡會在每次重新執行split_every時，重新更改piece\n",
    "        acc += len(piece)\n",
    "        \n",
    "my_list = [1,2,3,4,5,6,7,8,9,10]\n",
    "for index,item in split_every(my_list,2):\n",
    "    print(\"==================\")\n",
    "    print(f\"index:{index} item:{item}\")"
   ]
  },
  {
   "cell_type": "code",
   "execution_count": null,
   "metadata": {},
   "outputs": [],
   "source": [
    "def split_every(iterable, n):  # pylint: disable=invalid-name\n",
    "    i = iter(iterable)\n",
    "    print(\"外面的i, \",i)\n",
    "    acc = 0\n",
    "    piece = list(islice(i, n))\n",
    "    print(\"外面的piece \",piece)\n",
    "    acc += len(piece)\n",
    "    print(\"外面的acc \",acc)\n",
    "    print(\"進入while\")\n",
    "    while piece:\n",
    "        yield acc, piece\n",
    "        piece = list(islice(i, n))\n",
    "        print(\"in while的i,n  \",i,n)\n",
    "        print(\"in while的piece\",piece)\n",
    "        acc += len(piece)\n",
    "        print(\"in in while acc ,\",acc)\n",
    "        print(\"==========================\")\n",
    "    print(\"out of while\")\n",
    "alist = [1,2]\n",
    "blist = [1,2,3]\n",
    "clist = [1,2,3,4]\n",
    "dlist = [1,2,3,4,5]\n",
    "elist = [1,2,3,4,5,6]\n",
    "flist = [1,2,3,4,5,6,7]\n",
    "glist = [1,2,3,4,5,6,7,8]\n",
    "task = [alist,blist,clist,dlist,elist,flist,glist]\n",
    "print(\"甚麼鬼東西\",split_every(task,2))\n",
    "for tasks in split_every(task,2):\n",
    "    print(\"HEHE\")\n",
    "    print(\"這是任務 \",tasks)\n",
    "    time.sleep(1)"
   ]
  },
  {
   "cell_type": "code",
   "execution_count": null,
   "metadata": {},
   "outputs": [],
   "source": [
    "lllst = [1,2,3,4,5]\n",
    "# lllst = iter(lllst)\n",
    "while True:\n",
    "    a = list(islice(lllst,2))\n",
    "    print(\"a \",a)\n",
    "    time.sleep(1)\n"
   ]
  },
  {
   "cell_type": "code",
   "execution_count": null,
   "metadata": {},
   "outputs": [],
   "source": [
    "from itertools import islice\n",
    "lst = [1,2,3,4,5,6,7,8,9,10]\n",
    "bang = iter(lst)\n",
    "print(\"這是bang \",bang)\n",
    "a = list(islice(bang,2))\n",
    "print(a)\n",
    "while a:\n",
    "    a = list(islice(bang,2))\n",
    "    print(list(a))\n",
    "    time.sleep(2)"
   ]
  },
  {
   "cell_type": "code",
   "execution_count": null,
   "metadata": {},
   "outputs": [],
   "source": [
    "lst = [1,2,3]\n",
    "llst = {\"fsfds\":4545,\"fsddsfew\":867}\n",
    "for i in iter(llst):\n",
    "    print(i)\n",
    "print(iter(llst))\n",
    "for i in llst:\n",
    "    print(i)"
   ]
  },
  {
   "cell_type": "code",
   "execution_count": null,
   "metadata": {},
   "outputs": [],
   "source": [
    "def foo(num):\n",
    "    print(\"start...\")\n",
    "    while num<10:\n",
    "        num+=1\n",
    "        yield num\n",
    "for n in foo(0):\n",
    "    print(n)"
   ]
  },
  {
   "cell_type": "code",
   "execution_count": null,
   "metadata": {},
   "outputs": [],
   "source": [
    "#多List相加\n",
    "alist = [1,2,3,4,5]\n",
    "blist = [6,7,8,9,10]\n",
    "clist = [11,12,13,14,15]\n",
    "hehelist = [alist,blist,clist]\n",
    "zlist = []\n",
    "for i in hehelist:\n",
    "    zlist += i\n",
    "    print(zlist)\n",
    "sum_list = [i[:3] for i in hehelist]\n",
    "print(sum_list)"
   ]
  },
  {
   "cell_type": "code",
   "execution_count": null,
   "metadata": {},
   "outputs": [],
   "source": [
    "listTuple = [(1, 2,True), (3, 4,True), (5, 6,False)]\n",
    "for j,k,_ in listTuple:\n",
    "    print(j,k)\n",
    "count = 0\n",
    "for _,_,b in listTuple:\n",
    "    print(b)\n",
    "    if b == True:\n",
    "        count+=1\n",
    "print(\"??\",count)\n",
    "\n",
    "for single in listTuple:\n",
    "    print(single[0])\n",
    "    print(single[1])"
   ]
  },
  {
   "cell_type": "code",
   "execution_count": null,
   "metadata": {},
   "outputs": [],
   "source": [
    "# 建立資料夾->刪除資料夾\n",
    "import os,time\n",
    "path = \"test\"\n",
    "os.mkdir(path)\n",
    "time.sleep(5)\n",
    "os.rmdir(path)"
   ]
  },
  {
   "cell_type": "code",
   "execution_count": null,
   "metadata": {},
   "outputs": [],
   "source": [
    "import os\n",
    "file_path = \"bang\"\n",
    "zip_path = os.path.join(file_path, \"temp.zip\")\n",
    "print(zip_path)"
   ]
  },
  {
   "cell_type": "code",
   "execution_count": null,
   "metadata": {},
   "outputs": [],
   "source": [
    "url = 'https://i.pximg.net/img-original/img/2022/07/15/00/26/50/99727883_ugoira0.jpg'\n",
    "name = url.split('/')[-1]\n",
    "print(name)\n",
    "if \"ugoira\" in name:\n",
    "    print(\"ugoira\")\n",
    "    spl = name.split('_',-1)\n",
    "    print(spl)\n",
    "print(name)"
   ]
  },
  {
   "cell_type": "code",
   "execution_count": null,
   "metadata": {},
   "outputs": [],
   "source": [
    "alist = [\"a\",\"b\",\"c\"]\n",
    "blist = [\"g\",\"h\",\"i\"]\n",
    "alist + blist"
   ]
  },
  {
   "cell_type": "code",
   "execution_count": null,
   "metadata": {},
   "outputs": [],
   "source": [
    "adict= {'76992432': None,\n",
    "                    '77126980': None,\n",
    "                    '77249074': None,}\n",
    "bdict={}\n",
    "print(bool(adict))\n",
    "print(bool(bdict))"
   ]
  },
  {
   "cell_type": "code",
   "execution_count": null,
   "metadata": {},
   "outputs": [],
   "source": [
    "from datetime import datetime as dt\n",
    "\n",
    "utc_time = dt.utcnow()\n",
    "local_time = utc_time.strftime('%H%M%S')\n",
    "print(local_time)"
   ]
  },
  {
   "cell_type": "code",
   "execution_count": null,
   "metadata": {},
   "outputs": [],
   "source": [
    "import datetime as dt\n",
    "from datetime import datetime\n",
    "\n",
    "date = \"20220716\"\n",
    "print(type(date))\n",
    "date_obj = datetime.strptime(date,'%Y%m%d')\n",
    "print(date_obj)\n",
    "print(type(date_obj))\n",
    "change_date = date_obj.strftime('%Y-%m-%d')\n",
    "print(change_date)\n",
    "print(type(change_date))\n",
    "# delta = dt.timedelta(days=3)\n",
    "# d = date_obj - delta\n",
    "# print(d)\n",
    "# print(type(d))\n",
    "# a_date = d.strftime('%Y%m%d')\n",
    "# print(a_date)\n",
    "# print(type(a_date))"
   ]
  },
  {
   "cell_type": "code",
   "execution_count": null,
   "metadata": {},
   "outputs": [],
   "source": [
    "for i in range(1,3):\n",
    "    print(i)"
   ]
  }
 ],
 "metadata": {
  "kernelspec": {
   "display_name": "Python 3.9.6 64-bit ('3.9.6')",
   "language": "python",
   "name": "python3"
  },
  "language_info": {
   "codemirror_mode": {
    "name": "ipython",
    "version": 3
   },
   "file_extension": ".py",
   "mimetype": "text/x-python",
   "name": "python",
   "nbconvert_exporter": "python",
   "pygments_lexer": "ipython3",
   "version": "3.9.6"
  },
  "orig_nbformat": 4,
  "vscode": {
   "interpreter": {
    "hash": "340cbb65261324af527ffc92435dede9a24f7f944e08369927857e55900a5e9a"
   }
  }
 },
 "nbformat": 4,
 "nbformat_minor": 2
}
